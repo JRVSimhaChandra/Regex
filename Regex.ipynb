{
 "cells": [
  {
   "cell_type": "markdown",
   "id": "eaee5a25-0f96-4613-bef6-eeff9d6c2be7",
   "metadata": {},
   "source": [
    "# REGEX ( Regular Expression)\n",
    "\n",
    "* A regural expresson is a sequence of characters that uses as search pattern to find a string or set of strings ie., 'find and repalce'-like operations.\n",
    "* It can detect the presence or absecnce of a text by matching it with particular pattern and splitting a pattern into one or more sub-patterns.\n",
    "* Python provides a re-module that supports the use of regex in python.\n",
    "* Its primary function is to offer a search that takes a regular expression and string. Here, it either returns the first match or else none.\n",
    "* It is so powerful that it can extract a particular infromation from a text. So we can make our own Web Crawlers and Scrappers in python."
   ]
  },
  {
   "cell_type": "raw",
   "id": "6ee6d51a-a435-4aeb-8eba-b0ee4324f474",
   "metadata": {},
   "source": [
    "Frequently used Regular Expressions\n",
    "^ matches the begining of a string.\n",
    "$ matches the end of string.\n",
    "\\b matches a word boundary.\n",
    "\\d matches any numeric digit.\n",
    "\\D matches any non-numeric character.\n",
    "(x|y|z) matches exactly one of x, y or z.\n",
    "(x) in general is a remembered group. We can get the value of what matched by using the groups() method of the object returned by re.search.\n",
    "x? matches an optional x character (in other words, it matches an x zero or one times).\n",
    "x* matches x zero or more times.\n",
    "x+ matches x one or more times.\n",
    "x{m,n} matches an x character at least m times, but not more than n times.\n",
    "?: matches an expression but do not capture it. Non capturing group.\n",
    "?= matches a suffix but exclude it from capture. Positive look ahead.\n",
    "a(?=b) will match the \"a\" in \"ab\", but not the \"a\" in \"ac\".\n",
    "?! matches if suffix is absent.Negative look ahead.\n",
    "a(?!b) will match the \"a\" in \"ac\", but not the \"a\" in \"ab\".\n",
    "?<= positive look behind.\n",
    "?<! negative look behind.\n",
    "\n",
    "\\s matches any non-whitespace charcater.\n",
    "* Repeats a character zero or more times.\n",
    "\\S matches any non-whitespace charcater.\n",
    "*? Repeats a character zero or more times (non-greedy).\n",
    "+? Repeats a character one or more times.\n",
    "+ Repeats a character one or more times.\n",
    "[aeiou] Matches a single character in the listed set.\n",
    "[^XYZ] Matches a single character not in the listed set.\n",
    "[a-z0-9]  The set of characters can include a range.\n",
    "( Indicates where string extraction is to start.\n",
    ") Indicates where string extraction is to end."
   ]
  },
  {
   "cell_type": "code",
   "execution_count": 1,
   "id": "c6658c18-22cf-435d-8371-ef78bd187d84",
   "metadata": {},
   "outputs": [],
   "source": [
    "# import re module\n",
    "import re"
   ]
  },
  {
   "cell_type": "code",
   "execution_count": 2,
   "id": "0f6afb47-1512-4e76-873c-1c824c55edeb",
   "metadata": {},
   "outputs": [],
   "source": [
    "text = \"Welcome to the world of Python. Welcome you all.\"\n",
    "text1 = \"Hello all, welcome you to this show\""
   ]
  },
  {
   "cell_type": "code",
   "execution_count": 3,
   "id": "15676e32-0416-4c9f-8d98-551778468c76",
   "metadata": {},
   "outputs": [],
   "source": [
    "# In compile() - pass the string/pattern that we want to search\n",
    "result = re.compile(\"Welcome\")"
   ]
  },
  {
   "cell_type": "markdown",
   "id": "46d234c4-3aaf-4c25-a32f-1950264df6cc",
   "metadata": {},
   "source": [
    "# Search()\n",
    "Returns none ( if the pattern doesn't match), or a re.MatchObject contains information about the matching part of the string."
   ]
  },
  {
   "cell_type": "code",
   "execution_count": 4,
   "id": "e3097e66-1c1d-47b1-a82e-b55b4576fc35",
   "metadata": {},
   "outputs": [
    {
     "data": {
      "text/plain": [
       "<re.Match object; span=(0, 7), match='Welcome'>"
      ]
     },
     "execution_count": 4,
     "metadata": {},
     "output_type": "execute_result"
    }
   ],
   "source": [
    "# search() - to find/search a string or a pattern\n",
    "ans = result.search(text)\n",
    "ans"
   ]
  },
  {
   "cell_type": "code",
   "execution_count": 5,
   "id": "898d67a1-23e3-40ec-bfd8-83ac194d15a5",
   "metadata": {},
   "outputs": [
    {
     "data": {
      "text/plain": [
       "'Welcome'"
      ]
     },
     "execution_count": 5,
     "metadata": {},
     "output_type": "execute_result"
    }
   ],
   "source": [
    "text[:7]"
   ]
  },
  {
   "cell_type": "code",
   "execution_count": 6,
   "id": "e3332842-a3f0-47c4-a1cc-35b36a2a699e",
   "metadata": {},
   "outputs": [
    {
     "name": "stdout",
     "output_type": "stream",
     "text": [
      "['Welcome', 'Welcome']\n",
      "[]\n"
     ]
    }
   ],
   "source": [
    "# find all() returns all the matching pattern as a list\n",
    "print(result.findall(text))\n",
    "print(result.findall(text1))"
   ]
  },
  {
   "cell_type": "code",
   "execution_count": 8,
   "id": "6e69d08b-6571-441d-b3fe-3d9b2e5c5132",
   "metadata": {},
   "outputs": [
    {
     "name": "stdout",
     "output_type": "stream",
     "text": [
      "Start Index: 11\n",
      "End Index: 18\n",
      "End Index: (11, 18)\n"
     ]
    }
   ],
   "source": [
    "a = 'This is an example for regular expression'\n",
    "\n",
    "result = re.search('example',a)\n",
    "\n",
    "result.start()\n",
    "print('Start Index:', result.start())\n",
    "\n",
    "print('End Index:', result.end())\n",
    "\n",
    "print('End Index:', result.span())"
   ]
  },
  {
   "cell_type": "code",
   "execution_count": 9,
   "id": "02f63858-ebe8-4f0f-82c2-29cb1baaae28",
   "metadata": {},
   "outputs": [
    {
     "data": {
      "text/plain": [
       "<re.Match object; span=(23, 30), match='regular'>"
      ]
     },
     "execution_count": 9,
     "metadata": {},
     "output_type": "execute_result"
    }
   ],
   "source": [
    "re.search('regular',a)"
   ]
  },
  {
   "cell_type": "code",
   "execution_count": 10,
   "id": "316dc2d8-dd5a-4315-8d77-546715b92eea",
   "metadata": {},
   "outputs": [
    {
     "data": {
      "text/plain": [
       "'regular'"
      ]
     },
     "execution_count": 10,
     "metadata": {},
     "output_type": "execute_result"
    }
   ],
   "source": [
    "a[23:30]"
   ]
  },
  {
   "cell_type": "markdown",
   "id": "58606183-9c8f-4f80-8e54-e57fc0700c98",
   "metadata": {},
   "source": [
    "# Beginning of the string\n",
    "The^character chooses the begining of a string."
   ]
  },
  {
   "cell_type": "code",
   "execution_count": 11,
   "id": "beb6cee4-46fd-4c29-acd7-59725f9f487e",
   "metadata": {},
   "outputs": [],
   "source": [
    "sen = \"The ability of a digital computer to perform tasks commonly associated with intelligent beings.\""
   ]
  },
  {
   "cell_type": "code",
   "execution_count": 12,
   "id": "f4922c7e-7256-455b-a647-3e02c99bfc38",
   "metadata": {},
   "outputs": [
    {
     "name": "stdout",
     "output_type": "stream",
     "text": [
      "Beginning of String: <re.Match object; span=(0, 3), match='The'>\n"
     ]
    }
   ],
   "source": [
    "a = re.search(r'^The', sen)\n",
    "print('Beginning of String:', a)"
   ]
  },
  {
   "cell_type": "markdown",
   "id": "a5d4c099-26da-44df-85cc-89c37dd348df",
   "metadata": {},
   "source": [
    "# Ending of the string\n",
    "The $ character chooses the end of a string.\n"
   ]
  },
  {
   "cell_type": "code",
   "execution_count": 13,
   "id": "ab586718-ffe1-4b60-a6b1-5388056d2165",
   "metadata": {},
   "outputs": [
    {
     "name": "stdout",
     "output_type": "stream",
     "text": [
      "End of String: <re.Match object; span=(88, 95), match='beings.'>\n"
     ]
    }
   ],
   "source": [
    "match = re.search(r'beings.$', sen)\n",
    "print('End of String:', match)"
   ]
  },
  {
   "cell_type": "markdown",
   "id": "e4c42016-b5af-444b-ae0b-6f81d85fc33a",
   "metadata": {},
   "source": [
    "# Character classes\n",
    "character classes allow you to match a single set of characters with a posiible set of characters. it is given within the square brackets."
   ]
  },
  {
   "cell_type": "code",
   "execution_count": 14,
   "id": "e8fdce82-e75c-4e14-8f7d-55f8a68cba09",
   "metadata": {},
   "outputs": [
    {
     "name": "stdout",
     "output_type": "stream",
     "text": [
      "['Example', 'example']\n"
     ]
    }
   ],
   "source": [
    "a = \"Example: This is best example for Regular Expression\"\n",
    "\n",
    "print(re.findall(r'[Ee]xample', a))"
   ]
  },
  {
   "cell_type": "markdown",
   "id": "65757c51-00b6-48a9-8141-e6b858692b34",
   "metadata": {},
   "source": [
    "# Range \n",
    "The range  provides the flexibility to match a text with the help of a range pattern such as a range of numbers(0 to 9), a range of characters (A to Z), and so on.\n",
    "\n",
    "The hyphen within the character class represenst teh range."
   ]
  },
  {
   "cell_type": "code",
   "execution_count": 17,
   "id": "a95f60bf-33e6-4bc1-9724-b1fe051f4e65",
   "metadata": {},
   "outputs": [],
   "source": [
    "text = 'The cyber security has become one of the most important ascept of the business. \\\n",
    "$550 million has been invested research. 12.45.65.78 is one the most spammed inject ips. \\\n",
    "ask@web.com. $600 million wasted. save safe.'"
   ]
  },
  {
   "cell_type": "code",
   "execution_count": 18,
   "id": "3db67c10-2b35-42e3-9aff-76e911ff6c61",
   "metadata": {},
   "outputs": [
    {
     "name": "stdout",
     "output_type": "stream",
     "text": [
      "Hello <re.Match object; span=(0, 1), match='T'>\n"
     ]
    }
   ],
   "source": [
    "print('Hello',re.search(r'[a-z A-Z]', text))"
   ]
  },
  {
   "cell_type": "code",
   "execution_count": 20,
   "id": "8b25af54-d4cb-41b5-a7b1-b76e07b43723",
   "metadata": {},
   "outputs": [
    {
     "name": "stdout",
     "output_type": "stream",
     "text": [
      "['h', 'e', 'c', 'y', 'b', 'e', 'r', 's', 'e', 'c', 'u', 'r', 'i', 't', 'y', 'h', 'a', 's', 'b', 'e', 'c', 'o', 'm', 'e', 'o', 'n', 'e', 'o', 'f', 't', 'h', 'e', 'm', 'o', 's', 't', 'i', 'm', 'p', 'o', 'r', 't', 'a', 'n', 't', 'a', 's', 'c', 'e', 'p', 't', 'o', 'f', 't', 'h', 'e', 'b', 'u', 's', 'i', 'n', 'e', 's', 's', 'm', 'i', 'l', 'l', 'i', 'o', 'n', 'h', 'a', 's', 'b', 'e', 'e', 'n', 'i', 'n', 'v', 'e', 's', 't', 'e', 'd', 'r', 'e', 's', 'e', 'a', 'r', 'c', 'h', 'i', 's', 'o', 'n', 'e', 't', 'h', 'e', 'm', 'o', 's', 't', 's', 'p', 'a', 'm', 'm', 'e', 'd', 'i', 'n', 'j', 'e', 'c', 't', 'i', 'p', 's', 'a', 's', 'k', 'w', 'e', 'b', 'c', 'o', 'm', 'm', 'i', 'l', 'l', 'i', 'o', 'n', 'w', 'a', 's', 't', 'e', 'd', 's', 'a', 'v', 'e', 's', 'a', 'f', 'e']\n"
     ]
    }
   ],
   "source": [
    "print(re.findall(r'[a-z]', text))"
   ]
  },
  {
   "cell_type": "code",
   "execution_count": 21,
   "id": "5a3bcf93-e9eb-4fe1-8e84-84cb7f3aac4c",
   "metadata": {},
   "outputs": [
    {
     "name": "stdout",
     "output_type": "stream",
     "text": [
      "['T']\n"
     ]
    }
   ],
   "source": [
    "print(re.findall(r'[A-Z]', text))"
   ]
  },
  {
   "cell_type": "code",
   "execution_count": 24,
   "id": "0e45f24a-8a43-4e1e-8afa-df630b95a127",
   "metadata": {},
   "outputs": [
    {
     "name": "stdout",
     "output_type": "stream",
     "text": [
      "['T', 'h', 'e', ' ', 'c', 'y', 'b', 'e', 'r', ' ', 's', 'e', 'c', 'u', 'r', 'i', 't', 'y', ' ', 'h', 'a', 's', ' ', 'b', 'e', 'c', 'o', 'm', 'e', ' ', 'o', 'n', 'e', ' ', 'o', 'f', ' ', 't', 'h', 'e', ' ', 'm', 'o', 's', 't', ' ', 'i', 'm', 'p', 'o', 'r', 't', 'a', 'n', 't', ' ', 'a', 's', 'c', 'e', 'p', 't', ' ', 'o', 'f', ' ', 't', 'h', 'e', ' ', 'b', 'u', 's', 'i', 'n', 'e', 's', 's', ' ', ' ', 'm', 'i', 'l', 'l', 'i', 'o', 'n', ' ', 'h', 'a', 's', ' ', 'b', 'e', 'e', 'n', ' ', 'i', 'n', 'v', 'e', 's', 't', 'e', 'd', ' ', 'r', 'e', 's', 'e', 'a', 'r', 'c', 'h', ' ', ' ', 'i', 's', ' ', 'o', 'n', 'e', ' ', 't', 'h', 'e', ' ', 'm', 'o', 's', 't', ' ', 's', 'p', 'a', 'm', 'm', 'e', 'd', ' ', 'i', 'n', 'j', 'e', 'c', 't', ' ', 'i', 'p', 's', ' ', 'a', 's', 'k', 'w', 'e', 'b', 'c', 'o', 'm', ' ', ' ', 'm', 'i', 'l', 'l', 'i', 'o', 'n', ' ', 'w', 'a', 's', 't', 'e', 'd', ' ', 's', 'a', 'v', 'e', ' ', 's', 'a', 'f', 'e']\n"
     ]
    }
   ],
   "source": [
    "print(re.findall(r'[a-z A-Z]', text))"
   ]
  },
  {
   "cell_type": "markdown",
   "id": "e24d5398-3b2d-458d-902a-6fc97b91f5fa",
   "metadata": {},
   "source": [
    "# Negation\n",
    "It will look for a match expect for the inverted character or range of inverted characters mentioned in the character class."
   ]
  },
  {
   "cell_type": "code",
   "execution_count": 26,
   "id": "20f2e2c6-a0fb-4e42-a068-6183aa419bcb",
   "metadata": {},
   "outputs": [
    {
     "name": "stdout",
     "output_type": "stream",
     "text": [
      "['Ha']\n"
     ]
    }
   ],
   "source": [
    "a = \"Hello Harish, how are you? Are you coming to the party?\"\n",
    "print(re.findall(r'H[^e]',a))"
   ]
  },
  {
   "cell_type": "code",
   "execution_count": 27,
   "id": "b20246ee-a596-4704-a6bb-578754bdc007",
   "metadata": {},
   "outputs": [
    {
     "name": "stdout",
     "output_type": "stream",
     "text": [
      "<re.Match object; span=(0, 2), match='He'>\n"
     ]
    }
   ],
   "source": [
    "print(re.search(r'H[^a]', a))"
   ]
  },
  {
   "cell_type": "code",
   "execution_count": 28,
   "id": "6717c0e1-2936-4695-9dc7-0f747a57cd95",
   "metadata": {},
   "outputs": [
    {
     "name": "stdout",
     "output_type": "stream",
     "text": [
      "None\n"
     ]
    }
   ],
   "source": [
    "print(re.search(r'c[^o]', a))"
   ]
  },
  {
   "cell_type": "markdown",
   "id": "db04f39b-6777-4850-b344-8c1311df9297",
   "metadata": {},
   "source": [
    "# Any character\n",
    "The character represnets any single character outside a bracketed character class."
   ]
  },
  {
   "cell_type": "code",
   "execution_count": 29,
   "id": "9ab3c1c6-a872-4dcd-bb58-bf00cc03ce7f",
   "metadata": {},
   "outputs": [
    {
     "data": {
      "text/plain": [
       "'The ability of a digital computer to perform tasks commonly associated with intelligent beings.'"
      ]
     },
     "execution_count": 29,
     "metadata": {},
     "output_type": "execute_result"
    }
   ],
   "source": [
    "sen"
   ]
  },
  {
   "cell_type": "code",
   "execution_count": 30,
   "id": "12acf664-e4b9-4153-8ea8-7cdc469e64e4",
   "metadata": {},
   "outputs": [
    {
     "name": "stdout",
     "output_type": "stream",
     "text": [
      "<re.Match object; span=(37, 44), match='perform'>\n"
     ]
    }
   ],
   "source": [
    "print(re.search(r'p.rf..m', sen))"
   ]
  },
  {
   "cell_type": "markdown",
   "id": "33ae74c9-7666-4315-9371-9c2f75fe0228",
   "metadata": {},
   "source": [
    "# Optional Character\n",
    "We can specify optional characters using the? character which allows a character or character class either to presnet once or else not to occur."
   ]
  },
  {
   "cell_type": "code",
   "execution_count": 31,
   "id": "1cbdfce0-9dbc-43d3-84e6-99d98f2cba1e",
   "metadata": {},
   "outputs": [],
   "source": [
    "se = \"to spell humour, some use humour and some use humour\""
   ]
  },
  {
   "cell_type": "code",
   "execution_count": 32,
   "id": "f99f71ae-6a9b-43a4-ad66-9988f1cc0a66",
   "metadata": {},
   "outputs": [
    {
     "name": "stdout",
     "output_type": "stream",
     "text": [
      "humour ['humour', 'humour', 'humour']\n"
     ]
    }
   ],
   "source": [
    "print('humour' ,re.findall(r'humo?ur' , se))"
   ]
  },
  {
   "cell_type": "code",
   "execution_count": 33,
   "id": "a2b9d440-9375-4e52-96f0-7443c57b9bd3",
   "metadata": {},
   "outputs": [
    {
     "name": "stdout",
     "output_type": "stream",
     "text": [
      "['humour', 'humour', 'humour']\n"
     ]
    }
   ],
   "source": [
    "print(re.findall(r'humou?r', se))"
   ]
  },
  {
   "cell_type": "code",
   "execution_count": 34,
   "id": "1e8e70ba-f8ff-4ba8-9825-ada9cedf5b54",
   "metadata": {},
   "outputs": [],
   "source": [
    "text = 'The cyber security has become one of the most important ascept of the business. \\\n",
    "$550 million has been invested research. 12.45.65.78 is one the most spammed inject ips. \\\n",
    "ask@web.com. $600 million wasted. save safe.'"
   ]
  },
  {
   "cell_type": "code",
   "execution_count": 35,
   "id": "9ca8fbb2-c67f-4eb1-bf3b-b326e823b407",
   "metadata": {},
   "outputs": [
    {
     "data": {
      "text/plain": [
       "['save', 'safe']"
      ]
     },
     "execution_count": 35,
     "metadata": {},
     "output_type": "execute_result"
    }
   ],
   "source": [
    "re.findall('sa.e',text)"
   ]
  },
  {
   "cell_type": "code",
   "execution_count": 38,
   "id": "086fe4df-a838-4358-93b2-00df316d6b30",
   "metadata": {},
   "outputs": [
    {
     "name": "stdout",
     "output_type": "stream",
     "text": [
      "['1', '1', '4', '1', '8', '8', '6']\n"
     ]
    },
    {
     "name": "stderr",
     "output_type": "stream",
     "text": [
      "<>:1: SyntaxWarning: invalid escape sequence '\\d'\n",
      "<>:1: SyntaxWarning: invalid escape sequence '\\d'\n",
      "C:\\Users\\chand\\AppData\\Local\\Temp\\ipykernel_17484\\3371048323.py:1: SyntaxWarning: invalid escape sequence '\\d'\n",
      "  p = re.compile('\\d')\n"
     ]
    }
   ],
   "source": [
    "p = re.compile('\\d')\n",
    "print(p.findall(\"I went to him at 11 A.M. on 4th July 1886\"))"
   ]
  },
  {
   "cell_type": "code",
   "execution_count": 39,
   "id": "e30770ea-1958-4343-aa63-cbdfdeb812b3",
   "metadata": {},
   "outputs": [
    {
     "name": "stdout",
     "output_type": "stream",
     "text": [
      "['11', '4', '1886']\n"
     ]
    },
    {
     "name": "stderr",
     "output_type": "stream",
     "text": [
      "<>:1: SyntaxWarning: invalid escape sequence '\\d'\n",
      "<>:1: SyntaxWarning: invalid escape sequence '\\d'\n",
      "C:\\Users\\chand\\AppData\\Local\\Temp\\ipykernel_17484\\371543636.py:1: SyntaxWarning: invalid escape sequence '\\d'\n",
      "  p = re.compile('\\d+')\n"
     ]
    }
   ],
   "source": [
    "p = re.compile('\\d+')\n",
    "print(p.findall(\"I went to him at 11 A.M. on 4th July 1886\"))"
   ]
  },
  {
   "cell_type": "code",
   "execution_count": 40,
   "id": "770fa748-783d-40c7-a041-8ed2e23e7304",
   "metadata": {},
   "outputs": [
    {
     "name": "stderr",
     "output_type": "stream",
     "text": [
      "<>:1: SyntaxWarning: invalid escape sequence '\\d'\n",
      "<>:1: SyntaxWarning: invalid escape sequence '\\d'\n",
      "C:\\Users\\chand\\AppData\\Local\\Temp\\ipykernel_17484\\1843874699.py:1: SyntaxWarning: invalid escape sequence '\\d'\n",
      "  re.findall('\\d+',text)\n"
     ]
    },
    {
     "data": {
      "text/plain": [
       "['550', '12', '45', '65', '78', '600']"
      ]
     },
     "execution_count": 40,
     "metadata": {},
     "output_type": "execute_result"
    }
   ],
   "source": [
    "re.findall('\\d+',text)"
   ]
  },
  {
   "cell_type": "code",
   "execution_count": 41,
   "id": "9fa94823-c106-49cc-9f7e-7a2b5afaa270",
   "metadata": {},
   "outputs": [
    {
     "name": "stderr",
     "output_type": "stream",
     "text": [
      "<>:1: SyntaxWarning: invalid escape sequence '\\$'\n",
      "<>:1: SyntaxWarning: invalid escape sequence '\\$'\n",
      "C:\\Users\\chand\\AppData\\Local\\Temp\\ipykernel_17484\\289147885.py:1: SyntaxWarning: invalid escape sequence '\\$'\n",
      "  re.findall('\\$550',text)\n"
     ]
    },
    {
     "data": {
      "text/plain": [
       "['$550']"
      ]
     },
     "execution_count": 41,
     "metadata": {},
     "output_type": "execute_result"
    }
   ],
   "source": [
    "re.findall('\\$550',text)"
   ]
  },
  {
   "cell_type": "code",
   "execution_count": 42,
   "id": "2934ede5-3204-4099-87ed-06d3831acbd7",
   "metadata": {},
   "outputs": [
    {
     "data": {
      "text/plain": [
       "['safe']"
      ]
     },
     "execution_count": 42,
     "metadata": {},
     "output_type": "execute_result"
    }
   ],
   "source": [
    "re.findall('safe|saze',text)"
   ]
  },
  {
   "cell_type": "code",
   "execution_count": 43,
   "id": "3d530dd9-aa5a-496c-a0ec-69c81d411f97",
   "metadata": {},
   "outputs": [
    {
     "data": {
      "text/plain": [
       "'The cyber security has become one of the most important ascept of the business. $550 million has been invested research. 12.45.65.78 is one the most spammed inject ips. ask@web.com. $600 million wasted. save safe.'"
      ]
     },
     "execution_count": 43,
     "metadata": {},
     "output_type": "execute_result"
    }
   ],
   "source": [
    "text"
   ]
  },
  {
   "cell_type": "code",
   "execution_count": 44,
   "id": "668dc2cf-be1f-4ba3-a4c9-6d7f90851e56",
   "metadata": {},
   "outputs": [
    {
     "data": {
      "text/plain": [
       "['he',\n",
       " 'cyber',\n",
       " 'security',\n",
       " 'has',\n",
       " 'become',\n",
       " 'one',\n",
       " 'of',\n",
       " 'the',\n",
       " 'most',\n",
       " 'important',\n",
       " 'ascept',\n",
       " 'of',\n",
       " 'the',\n",
       " 'business',\n",
       " 'million',\n",
       " 'has',\n",
       " 'been',\n",
       " 'invested',\n",
       " 'research',\n",
       " 'is',\n",
       " 'one',\n",
       " 'the',\n",
       " 'most',\n",
       " 'spammed',\n",
       " 'inject',\n",
       " 'ips',\n",
       " 'ask',\n",
       " 'web',\n",
       " 'com',\n",
       " 'million',\n",
       " 'wasted',\n",
       " 'save',\n",
       " 'safe']"
      ]
     },
     "execution_count": 44,
     "metadata": {},
     "output_type": "execute_result"
    }
   ],
   "source": [
    "re.findall('[a-z]+',text)"
   ]
  },
  {
   "cell_type": "code",
   "execution_count": 45,
   "id": "ad4cc9cc-1c3a-4592-a307-aeac13710212",
   "metadata": {},
   "outputs": [
    {
     "data": {
      "text/plain": [
       "'The cyber security has become one of the most important ascept of the business. $550 million has been invested research. 12.45.65.78 is one the most spammed inject ips. ask@web.com. $600 million wasted. save safe.'"
      ]
     },
     "execution_count": 45,
     "metadata": {},
     "output_type": "execute_result"
    }
   ],
   "source": [
    "text"
   ]
  },
  {
   "cell_type": "code",
   "execution_count": 46,
   "id": "72d7eb34-544f-483d-b5fd-565ec447ef96",
   "metadata": {},
   "outputs": [
    {
     "data": {
      "text/plain": [
       "['ask@web.com']"
      ]
     },
     "execution_count": 46,
     "metadata": {},
     "output_type": "execute_result"
    }
   ],
   "source": [
    "re.findall('[a-z0-9]+@[a-z0-9]+.com',text)"
   ]
  },
  {
   "cell_type": "code",
   "execution_count": 47,
   "id": "133b905f-8ed5-47f3-8cd4-4e093870709f",
   "metadata": {},
   "outputs": [
    {
     "name": "stdout",
     "output_type": "stream",
     "text": [
      "['H', 'e', 's', 'a', 'i', 'd', 'i', 'n', 's', 'o', 'm', 'e', '_', 'l', 'a', 'n', 'g']\n",
      "['I', 'went', 'to', 'him', 'at', '11', 'A', 'M', 'he', 'said', 'in', 'some_language']\n",
      "[' ', ' ', '*', '*', '*', ' ', ' ', '.']\n"
     ]
    },
    {
     "name": "stderr",
     "output_type": "stream",
     "text": [
      "<>:1: SyntaxWarning: invalid escape sequence '\\w'\n",
      "<>:4: SyntaxWarning: invalid escape sequence '\\w'\n",
      "<>:7: SyntaxWarning: invalid escape sequence '\\W'\n",
      "<>:1: SyntaxWarning: invalid escape sequence '\\w'\n",
      "<>:4: SyntaxWarning: invalid escape sequence '\\w'\n",
      "<>:7: SyntaxWarning: invalid escape sequence '\\W'\n",
      "C:\\Users\\chand\\AppData\\Local\\Temp\\ipykernel_17484\\2371844677.py:1: SyntaxWarning: invalid escape sequence '\\w'\n",
      "  p = re.compile('\\w')\n",
      "C:\\Users\\chand\\AppData\\Local\\Temp\\ipykernel_17484\\2371844677.py:4: SyntaxWarning: invalid escape sequence '\\w'\n",
      "  p = re.compile('\\w+')\n",
      "C:\\Users\\chand\\AppData\\Local\\Temp\\ipykernel_17484\\2371844677.py:7: SyntaxWarning: invalid escape sequence '\\W'\n",
      "  p = re.compile('\\W')\n"
     ]
    }
   ],
   "source": [
    "p = re.compile('\\w')\n",
    "print(p.findall(\"He said * in some_lang.\"))\n",
    "\n",
    "p = re.compile('\\w+')\n",
    "print(p .findall(\"I went to him at 11 A.M., he \\\n",
    "      said *** in some_language.\"))\n",
    "p = re.compile('\\W')\n",
    "print(p.findall(\"he said *** in some_language.\"))"
   ]
  },
  {
   "cell_type": "code",
   "execution_count": 50,
   "id": "e49ee0eb-149b-4931-9fb5-85ca2c3dddb7",
   "metadata": {},
   "outputs": [
    {
     "data": {
      "text/plain": [
       "'The cyber security has become one of the most important ascept of the business. $550 million has been invested research. 12.45.65.78 is one the most spammed inject ips. ask@web.com. $600 million wasted. save safe.'"
      ]
     },
     "execution_count": 50,
     "metadata": {},
     "output_type": "execute_result"
    }
   ],
   "source": [
    "text"
   ]
  },
  {
   "cell_type": "code",
   "execution_count": 48,
   "id": "bc55f5c7-ef17-48c6-9681-a93a32202dfc",
   "metadata": {},
   "outputs": [
    {
     "name": "stdout",
     "output_type": "stream",
     "text": [
      "['The', 'cyber', 'security', 'has', 'become', 'one', 'of', 'the', 'most', 'important', 'ascept', 'of', 'the', 'business', '550', 'million', 'has', 'been', 'invested', 'research', '12', '45', '65', '78', 'is', 'one', 'the', 'most', 'spammed', 'inject', 'ips', 'ask', 'web', 'com', '600', 'million', 'wasted', 'save', 'safe', '']\n"
     ]
    },
    {
     "name": "stderr",
     "output_type": "stream",
     "text": [
      "<>:1: SyntaxWarning: invalid escape sequence '\\W'\n",
      "<>:1: SyntaxWarning: invalid escape sequence '\\W'\n",
      "C:\\Users\\chand\\AppData\\Local\\Temp\\ipykernel_17484\\505945916.py:1: SyntaxWarning: invalid escape sequence '\\W'\n",
      "  print(re.split('\\W+',text))\n"
     ]
    }
   ],
   "source": [
    "print(re.split('\\W+',text))"
   ]
  },
  {
   "cell_type": "code",
   "execution_count": 49,
   "id": "0eac7df8-bac4-468e-9305-b7c24c9d7d2a",
   "metadata": {},
   "outputs": [
    {
     "name": "stdout",
     "output_type": "stream",
     "text": [
      "['The cyber security has become one of the most important ascept of the business. $', ' million has been invested research. ', '.', '.', '.', ' is one the most spammed inject ips. ask@web.com. $', ' million wasted. save safe.']\n"
     ]
    },
    {
     "name": "stderr",
     "output_type": "stream",
     "text": [
      "<>:1: SyntaxWarning: invalid escape sequence '\\d'\n",
      "<>:1: SyntaxWarning: invalid escape sequence '\\d'\n",
      "C:\\Users\\chand\\AppData\\Local\\Temp\\ipykernel_17484\\1638416583.py:1: SyntaxWarning: invalid escape sequence '\\d'\n",
      "  print(re.split('\\d+', text))\n"
     ]
    }
   ],
   "source": [
    "print(re.split('\\d+', text))"
   ]
  },
  {
   "cell_type": "code",
   "execution_count": 51,
   "id": "41afbb28-c7e9-4756-8113-553df6cba00b",
   "metadata": {},
   "outputs": [
    {
     "name": "stdout",
     "output_type": "stream",
     "text": [
      "['', ' ', ' ', ' ', ' ', ' ', ' ', ' ', ' ', ' ', ' ', ' ', ' ', ' ', '. $', ' ', ' ', ' ', ' ', ' ', '. ', '.', '.', '.', ' ', ' ', ' ', ' ', ' ', ' ', ' ', '. ', '@', '.', '. $', ' ', ' ', '. ', ' ', '.']\n"
     ]
    },
    {
     "name": "stderr",
     "output_type": "stream",
     "text": [
      "<>:1: SyntaxWarning: invalid escape sequence '\\w'\n",
      "<>:1: SyntaxWarning: invalid escape sequence '\\w'\n",
      "C:\\Users\\chand\\AppData\\Local\\Temp\\ipykernel_17484\\3709415649.py:1: SyntaxWarning: invalid escape sequence '\\w'\n",
      "  print(re.split('\\w+', text))\n"
     ]
    }
   ],
   "source": [
    "print(re.split('\\w+', text))"
   ]
  },
  {
   "cell_type": "raw",
   "id": "303958a7-2730-4939-9a3a-dbc3efba2c33",
   "metadata": {},
   "source": [
    "https://www.geeksforgeeks.org/regular-expression-python-examples-set-1/"
   ]
  },
  {
   "cell_type": "markdown",
   "id": "7ce5e46a-fa25-488f-9005-fd294bfb9108",
   "metadata": {},
   "source": [
    "# Split()"
   ]
  },
  {
   "cell_type": "code",
   "execution_count": 53,
   "id": "493879c0-b1c6-4ed8-8296-c5c78914763e",
   "metadata": {},
   "outputs": [],
   "source": [
    "sen1 = \"Take $ 100 and buy 20 oranges 12 Apples, 50 bananas and 30 Guavas. Keep remaining $ with you\""
   ]
  },
  {
   "cell_type": "code",
   "execution_count": 54,
   "id": "da6e7dba-fc57-4ee6-a504-a19c4d11da86",
   "metadata": {},
   "outputs": [
    {
     "name": "stderr",
     "output_type": "stream",
     "text": [
      "<>:1: SyntaxWarning: invalid escape sequence '\\d'\n",
      "<>:1: SyntaxWarning: invalid escape sequence '\\d'\n",
      "C:\\Users\\chand\\AppData\\Local\\Temp\\ipykernel_17484\\120980994.py:1: SyntaxWarning: invalid escape sequence '\\d'\n",
      "  re.split('\\d', sen1)\n"
     ]
    },
    {
     "data": {
      "text/plain": [
       "['Take $ ',\n",
       " '',\n",
       " '',\n",
       " ' and buy ',\n",
       " '',\n",
       " ' oranges ',\n",
       " '',\n",
       " ' Apples, ',\n",
       " '',\n",
       " ' bananas and ',\n",
       " '',\n",
       " ' Guavas. Keep remaining $ with you']"
      ]
     },
     "execution_count": 54,
     "metadata": {},
     "output_type": "execute_result"
    }
   ],
   "source": [
    "re.split('\\d', sen1)"
   ]
  },
  {
   "cell_type": "code",
   "execution_count": 58,
   "id": "4cd80d47-3552-432d-b117-c51a7235c7ed",
   "metadata": {},
   "outputs": [
    {
     "name": "stdout",
     "output_type": "stream",
     "text": [
      "['Mohan', 'house', 'is', 'near']\n",
      "['Mohan', 's', 'house', 'is', 'near']\n",
      "['Neeta', 'Raghu', 'and', 'Harish', 'are', 'playing']\n"
     ]
    },
    {
     "name": "stderr",
     "output_type": "stream",
     "text": [
      "<>:1: SyntaxWarning: invalid escape sequence '\\W'\n",
      "<>:2: SyntaxWarning: invalid escape sequence '\\W'\n",
      "<>:3: SyntaxWarning: invalid escape sequence '\\W'\n",
      "<>:1: SyntaxWarning: invalid escape sequence '\\W'\n",
      "<>:2: SyntaxWarning: invalid escape sequence '\\W'\n",
      "<>:3: SyntaxWarning: invalid escape sequence '\\W'\n",
      "C:\\Users\\chand\\AppData\\Local\\Temp\\ipykernel_17484\\3202097525.py:1: SyntaxWarning: invalid escape sequence '\\W'\n",
      "  print(re.split('\\W+', \"Mohan house is near\"))\n",
      "C:\\Users\\chand\\AppData\\Local\\Temp\\ipykernel_17484\\3202097525.py:2: SyntaxWarning: invalid escape sequence '\\W'\n",
      "  print(re.split('\\W+', \"Mohan's house is near\"))\n",
      "C:\\Users\\chand\\AppData\\Local\\Temp\\ipykernel_17484\\3202097525.py:3: SyntaxWarning: invalid escape sequence '\\W'\n",
      "  print(re.split('\\W+', \"Neeta, Raghu and Harish are playing\"))\n"
     ]
    }
   ],
   "source": [
    "print(re.split('\\W+', \"Mohan house is near\"))\n",
    "print(re.split('\\W+', \"Mohan's house is near\"))\n",
    "print(re.split('\\W+', \"Neeta, Raghu and Harish are playing\"))"
   ]
  },
  {
   "cell_type": "code",
   "execution_count": 59,
   "id": "5e595452-60f5-4704-93cd-75d18be3ffce",
   "metadata": {},
   "outputs": [
    {
     "name": "stdout",
     "output_type": "stream",
     "text": [
      "['Complete it on or before 15th Jan 2023. The exam will be on 25th Jan 2023']\n"
     ]
    },
    {
     "name": "stderr",
     "output_type": "stream",
     "text": [
      "<>:1: SyntaxWarning: invalid escape sequence '\\+'\n",
      "<>:1: SyntaxWarning: invalid escape sequence '\\+'\n",
      "C:\\Users\\chand\\AppData\\Local\\Temp\\ipykernel_17484\\2701572065.py:1: SyntaxWarning: invalid escape sequence '\\+'\n",
      "  print(re.split('d\\+', 'Complete it on or before 15th Jan 2023. The exam will be on 25th Jan 2023', 3))\n"
     ]
    }
   ],
   "source": [
    "print(re.split('d\\+', 'Complete it on or before 15th Jan 2023. The exam will be on 25th Jan 2023', 3))"
   ]
  },
  {
   "cell_type": "code",
   "execution_count": 60,
   "id": "5bdea1ed-49d7-4dc7-bf65-1b13cc417783",
   "metadata": {},
   "outputs": [
    {
     "name": "stdout",
     "output_type": "stream",
     "text": [
      "['come', 'on', 'neeta', 'cheer', 'up']\n",
      "['Come', 'on', 'Neeta', 'Cheer', 'up']\n"
     ]
    }
   ],
   "source": [
    "print(re.findall('[a-z]+', 'Come on Neeta.. Cheer up!'.lower()))\n",
    "print(re.findall('[a-z]+', 'Come on Neeta.. Cheer up!', flags=re.IGNORECASE))"
   ]
  },
  {
   "cell_type": "markdown",
   "id": "e40f1c4b-3287-4225-b6b1-2bdaa14e64b0",
   "metadata": {},
   "source": [
    "# SUb()\n",
    " It is used to find teh substring in the given string and replace it with a new string"
   ]
  },
  {
   "cell_type": "code",
   "execution_count": 61,
   "id": "5933172f-e983-4a6b-9b95-0ff0237a1c68",
   "metadata": {},
   "outputs": [
    {
     "name": "stdout",
     "output_type": "stream",
     "text": [
      "R#-ya c#-e to the C#-PUS yesterday\n"
     ]
    }
   ],
   "source": [
    "print(re.sub('am', '#-', 'Ramya came to the CAMPUS yesterday',\n",
    "             flags=re.IGNORECASE))"
   ]
  },
  {
   "cell_type": "code",
   "execution_count": 62,
   "id": "9609ea70-aa18-4903-b957-07b76a1c5659",
   "metadata": {},
   "outputs": [
    {
     "name": "stdout",
     "output_type": "stream",
     "text": [
      "R&ya c&e to the CAMPUS yesterday\n"
     ]
    }
   ],
   "source": [
    "print(re.sub('am', '&', 'Ramya came to the CAMPUS yesterday'))"
   ]
  },
  {
   "cell_type": "code",
   "execution_count": 63,
   "id": "0428ea46-a0e6-4c6e-b6ee-3953307a2a73",
   "metadata": {},
   "outputs": [
    {
     "name": "stdout",
     "output_type": "stream",
     "text": [
      "emergencies\n"
     ]
    }
   ],
   "source": [
    "print(re.sub('y$', 'ies', 'emergency'))"
   ]
  },
  {
   "cell_type": "markdown",
   "id": "1e4cf9b9-e379-4f81-92bb-fe1390507343",
   "metadata": {},
   "source": [
    "# Subn()\n",
    "Similar to sub() excecpt that it tells the count of replacement made and the new string."
   ]
  },
  {
   "cell_type": "code",
   "execution_count": 64,
   "id": "88180011-3ce9-4bb8-98e0-9616505d2bf0",
   "metadata": {},
   "outputs": [
    {
     "name": "stdout",
     "output_type": "stream",
     "text": [
      "('R#-ya c#-e to the C#-PUS yesterday', 3)\n"
     ]
    }
   ],
   "source": [
    "print(re.subn('am', '#-', 'Ramya came to the CAMPUS yesterday',\n",
    "             flags=re.IGNORECASE))"
   ]
  },
  {
   "cell_type": "markdown",
   "id": "999ad30a-54ca-489d-84a9-23014761a2e4",
   "metadata": {},
   "source": [
    "# escape()\n",
    "It returns a string with BackSlash before every Non-Alphaumeric Character"
   ]
  },
  {
   "cell_type": "code",
   "execution_count": 65,
   "id": "4fe5ed7c-f19c-4089-8fc5-73e17acbe8fa",
   "metadata": {},
   "outputs": [
    {
     "name": "stdout",
     "output_type": "stream",
     "text": [
      "Hurry\\ up!\\ It's\\ 5pm\\.\\ We\\ don't\\ have\\ time\\.\n"
     ]
    }
   ],
   "source": [
    "print(re.escape(\"Hurry up! It's 5pm. We don't have time.\"))"
   ]
  },
  {
   "cell_type": "markdown",
   "id": "10edb3fa-7c0d-42a5-917e-15f8896e85bf",
   "metadata": {},
   "source": [
    "# Group()\n",
    "\n",
    "It returns the part of the string for which the patterns match."
   ]
  },
  {
   "cell_type": "code",
   "execution_count": 66,
   "id": "59568a14-4afe-4cd9-a666-1032135dbd91",
   "metadata": {},
   "outputs": [
    {
     "name": "stdout",
     "output_type": "stream",
     "text": [
      "nto t\n"
     ]
    }
   ],
   "source": [
    "sen = \"Look into this problem\"\n",
    "\n",
    "res = re.search(r\"\\D{3} t\", sen)\n",
    "\n",
    "print(res.group())"
   ]
  },
  {
   "cell_type": "raw",
   "id": "c5b5d870-46b4-41bb-b071-724f6afed2e1",
   "metadata": {},
   "source": [
    "Here, the pattern specifies for the string that contains at least 2 character which are followed by a space, and that space is followed by a t."
   ]
  },
  {
   "cell_type": "code",
   "execution_count": null,
   "id": "50e123db-1094-4f2c-a3e4-b22e90d82404",
   "metadata": {},
   "outputs": [],
   "source": []
  }
 ],
 "metadata": {
  "kernelspec": {
   "display_name": "Python 3 (ipykernel)",
   "language": "python",
   "name": "python3"
  },
  "language_info": {
   "codemirror_mode": {
    "name": "ipython",
    "version": 3
   },
   "file_extension": ".py",
   "mimetype": "text/x-python",
   "name": "python",
   "nbconvert_exporter": "python",
   "pygments_lexer": "ipython3",
   "version": "3.12.4"
  }
 },
 "nbformat": 4,
 "nbformat_minor": 5
}
